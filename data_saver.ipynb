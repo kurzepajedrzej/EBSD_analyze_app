{
 "cells": [
  {
   "cell_type": "code",
   "execution_count": 1,
   "metadata": {},
   "outputs": [
    {
     "name": "stdout",
     "output_type": "stream",
     "text": [
      "Dataset dtype: uint8\n",
      "Dataset shape: (28905, 128, 156)\n"
     ]
    }
   ],
   "source": [
    "import h5py\n",
    "\n",
    "file_path = 'input_data/large Specimen 1 averaging test 25 frames.h5oina'\n",
    "\n",
    "# Open the HDF5 file in read mode\n",
    "with h5py.File(file_path, 'r') as file:\n",
    "    # Access the dataset\n",
    "    dataset = file['/1/EBSD/Data/Processed Patterns']\n",
    "    \n",
    "    # Print dataset dtype and shape\n",
    "    print(\"Dataset dtype:\", dataset.dtype)\n",
    "    print(\"Dataset shape:\", dataset.shape)\n"
   ]
  },
  {
   "cell_type": "code",
   "execution_count": 2,
   "metadata": {},
   "outputs": [
    {
     "name": "stdout",
     "output_type": "stream",
     "text": [
      "Existing dataset dtype: uint8\n",
      "New data dtype: uint8\n",
      "New data shape: (28905, 128, 156)\n"
     ]
    }
   ],
   "source": [
    "import numpy as np\n",
    "import h5py\n",
    "\n",
    "file_path = 'input_data/large Specimen 1 averaging test 25 frames.h5oina'\n",
    "\n",
    "# Open the HDF5 file in read mode to get the dtype of the existing dataset\n",
    "with h5py.File(file_path, 'r') as file:\n",
    "    dataset = file['/1/EBSD/Data/Processed Patterns']\n",
    "    dtype = dataset.dtype\n",
    "    shape = dataset.shape\n",
    "\n",
    "print(\"Existing dataset dtype:\", dtype)\n",
    "\n",
    "# Create new data with the same dtype\n",
    "matrices = np.ones((28905, 128, 156), dtype=dtype)\n",
    "\n",
    "# Check the type of the created matrices\n",
    "print(\"New data dtype:\", matrices.dtype)\n",
    "\n",
    "# Optionally, print shape and values to verify\n",
    "print(\"New data shape:\", matrices.shape)\n"
   ]
  },
  {
   "cell_type": "code",
   "execution_count": 19,
   "metadata": {},
   "outputs": [
    {
     "name": "stdout",
     "output_type": "stream",
     "text": [
      "Dataset dtype: uint8\n",
      "Dataset shape: (28905, 128, 156)\n",
      "Pierwszy obraz został nadpisany wartościami 0 (czarny).\n"
     ]
    },
    {
     "data": {
      "image/png": "[encoded data removed]",
      "text/plain": [
       "<Figure size 640x480 with 1 Axes>"
      ]
     },
     "metadata": {},
     "output_type": "display_data"
    }
   ],
   "source": [
    "import numpy as np\n",
    "import h5py\n",
    "import matplotlib.pyplot as plt\n",
    "\n",
    "# Ścieżka do pliku HDF5\n",
    "file_path = 'input_data/large Specimen 1 averaging test 25 frames.h5oina'\n",
    "\n",
    "# Otwórz plik HDF5 w trybie odczytu i zapisu\n",
    "with h5py.File(file_path, 'r+') as file:\n",
    "    # Dostęp do zestawu danych z obrazami EBSD\n",
    "    try:\n",
    "        dataset = file['/1/EBSD/Data/Processed Patterns']\n",
    "    except KeyError:\n",
    "        raise KeyError(\"Ścieżka do datasetu nie została odnaleziona. Upewnij się, że jest poprawna.\")\n",
    "    \n",
    "    # Sprawdzenie typu danych i wymiarów zestawu danych\n",
    "    dtype = dataset.dtype\n",
    "    shape = dataset.shape\n",
    "    print(f\"Dataset dtype: {dtype}\")\n",
    "    print(f\"Dataset shape: {shape}\")\n",
    "\n",
    "    if dtype != np.uint8:\n",
    "        raise ValueError(f\"Oczekiwano typu danych uint8, ale otrzymano: {dtype}\")\n",
    "\n",
    "    # Tworzenie czarnej macierzy o takich samych wymiarach jak pierwszy obraz w zestawie\n",
    "    black_matrix = np.full(dataset[0].shape,255, dtype=dtype)\n",
    "\n",
    "    # Nadpisanie pierwszego obrazu czarną macierzą (wartości 0)\n",
    "    dataset[0] = black_matrix\n",
    "\n",
    "    print(\"Pierwszy obraz został nadpisany wartościami 0 (czarny).\")\n",
    "\n",
    "    # Wyświetlenie macierzy w formie obrazu z ustawionym zakresem vmin i vmax\n",
    "    plt.imshow(black_matrix, cmap='gray', vmin=0, vmax=255)\n",
    "    plt.title('Nadpisany obraz - cały czarny')\n",
    "    plt.axis('off')  # Ukrycie osi\n",
    "    plt.show()\n"
   ]
  }
 ],
 "metadata": {
  "kernelspec": {
   "display_name": ".venv",
   "language": "python",
   "name": "python3"
  },
  "language_info": {
   "codemirror_mode": {
    "name": "ipython",
    "version": 3
   },
   "file_extension": ".py",
   "mimetype": "text/x-python",
   "name": "python",
   "nbconvert_exporter": "python",
   "pygments_lexer": "ipython3",
   "version": "3.12.5"
  }
 },
 "nbformat": 4,
 "nbformat_minor": 2
}
